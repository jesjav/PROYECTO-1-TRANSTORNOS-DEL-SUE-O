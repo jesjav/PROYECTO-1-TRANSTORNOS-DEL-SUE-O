{
  "nbformat": 4,
  "nbformat_minor": 0,
  "metadata": {
    "colab": {
      "provenance": [],
      "authorship_tag": "ABX9TyMfgfIKxiEY8zKv3ZTeVq9f",
      "include_colab_link": true
    },
    "kernelspec": {
      "name": "python3",
      "display_name": "Python 3"
    },
    "language_info": {
      "name": "python"
    }
  },
  "cells": [
    {
      "cell_type": "markdown",
      "metadata": {
        "id": "view-in-github",
        "colab_type": "text"
      },
      "source": [
        "<a href=\"https://colab.research.google.com/github/jesjav/PROYECTO-1-TRANSTORNOS-DEL-SUE-O/blob/main/An%C3%A1lisis_inicial.ipynb\" target=\"_parent\"><img src=\"https://colab.research.google.com/assets/colab-badge.svg\" alt=\"Open In Colab\"/></a>"
      ]
    },
    {
      "cell_type": "markdown",
      "source": [
        "primero: vamos a importar la base de datos Sleep_health_and_lifestyle_dataset"
      ],
      "metadata": {
        "id": "M_RA-bJqnisA"
      }
    },
    {
      "cell_type": "code",
      "source": [
        "import pandas as pd\n",
        "# Función : Importa la librería pandas bajo el alias pd\n",
        "df = pd.read_csv('Sleep_health_and_lifestyle_dataset.csv')\n",
        "#Función : Carga un archivo CSV.\n",
        "print(df.head())\n",
        "# unción : Muestra las primeras 5 filas del DataFrame"
      ],
      "metadata": {
        "colab": {
          "base_uri": "https://localhost:8080/"
        },
        "id": "CuCkpKMemKjw",
        "outputId": "de65c9ed-49a4-42b8-8f7f-74c2bd4004d8"
      },
      "execution_count": 30,
      "outputs": [
        {
          "output_type": "stream",
          "name": "stdout",
          "text": [
            "   Person ID Gender  Age            Occupation  Sleep Duration  \\\n",
            "0          1   Male   27     Software Engineer             6.1   \n",
            "1          2   Male   28                Doctor             6.2   \n",
            "2          3   Male   28                Doctor             6.2   \n",
            "3          4   Male   28  Sales Representative             5.9   \n",
            "4          5   Male   28  Sales Representative             5.9   \n",
            "\n",
            "   Quality of Sleep  Physical Activity Level  Stress Level BMI Category  \\\n",
            "0                 6                       42             6   Overweight   \n",
            "1                 6                       60             8       Normal   \n",
            "2                 6                       60             8       Normal   \n",
            "3                 4                       30             8        Obese   \n",
            "4                 4                       30             8        Obese   \n",
            "\n",
            "  Blood Pressure  Heart Rate  Daily Steps Sleep Disorder  \n",
            "0         126/83          77         4200            NaN  \n",
            "1         125/80          75        10000            NaN  \n",
            "2         125/80          75        10000            NaN  \n",
            "3         140/90          85         3000    Sleep Apnea  \n",
            "4         140/90          85         3000    Sleep Apnea  \n"
          ]
        }
      ]
    },
    {
      "cell_type": "code",
      "source": [
        "# Muestra la información del DataFrame en formato de tabla\n",
        "print(df.to_string())"
      ],
      "metadata": {
        "colab": {
          "base_uri": "https://localhost:8080/"
        },
        "collapsed": true,
        "id": "UYi94ejXnqYR",
        "outputId": "fc9fa417-41ca-4ea1-95d3-038d844a7093"
      },
      "execution_count": 31,
      "outputs": [
        {
          "output_type": "stream",
          "name": "stdout",
          "text": [
            "     Person ID  Gender  Age            Occupation  Sleep Duration  Quality of Sleep  Physical Activity Level  Stress Level   BMI Category Blood Pressure  Heart Rate  Daily Steps Sleep Disorder\n",
            "0            1    Male   27     Software Engineer             6.1                 6                       42             6     Overweight         126/83          77         4200            NaN\n",
            "1            2    Male   28                Doctor             6.2                 6                       60             8         Normal         125/80          75        10000            NaN\n",
            "2            3    Male   28                Doctor             6.2                 6                       60             8         Normal         125/80          75        10000            NaN\n",
            "3            4    Male   28  Sales Representative             5.9                 4                       30             8          Obese         140/90          85         3000    Sleep Apnea\n",
            "4            5    Male   28  Sales Representative             5.9                 4                       30             8          Obese         140/90          85         3000    Sleep Apnea\n",
            "5            6    Male   28     Software Engineer             5.9                 4                       30             8          Obese         140/90          85         3000       Insomnia\n",
            "6            7    Male   29               Teacher             6.3                 6                       40             7          Obese         140/90          82         3500       Insomnia\n",
            "7            8    Male   29                Doctor             7.8                 7                       75             6         Normal         120/80          70         8000            NaN\n",
            "8            9    Male   29                Doctor             7.8                 7                       75             6         Normal         120/80          70         8000            NaN\n",
            "9           10    Male   29                Doctor             7.8                 7                       75             6         Normal         120/80          70         8000            NaN\n",
            "10          11    Male   29                Doctor             6.1                 6                       30             8         Normal         120/80          70         8000            NaN\n",
            "11          12    Male   29                Doctor             7.8                 7                       75             6         Normal         120/80          70         8000            NaN\n",
            "12          13    Male   29                Doctor             6.1                 6                       30             8         Normal         120/80          70         8000            NaN\n",
            "13          14    Male   29                Doctor             6.0                 6                       30             8         Normal         120/80          70         8000            NaN\n",
            "14          15    Male   29                Doctor             6.0                 6                       30             8         Normal         120/80          70         8000            NaN\n",
            "15          16    Male   29                Doctor             6.0                 6                       30             8         Normal         120/80          70         8000            NaN\n",
            "16          17  Female   29                 Nurse             6.5                 5                       40             7  Normal Weight         132/87          80         4000    Sleep Apnea\n",
            "17          18    Male   29                Doctor             6.0                 6                       30             8         Normal         120/80          70         8000    Sleep Apnea\n",
            "18          19  Female   29                 Nurse             6.5                 5                       40             7  Normal Weight         132/87          80         4000       Insomnia\n",
            "19          20    Male   30                Doctor             7.6                 7                       75             6         Normal         120/80          70         8000            NaN\n",
            "20          21    Male   30                Doctor             7.7                 7                       75             6         Normal         120/80          70         8000            NaN\n",
            "21          22    Male   30                Doctor             7.7                 7                       75             6         Normal         120/80          70         8000            NaN\n",
            "22          23    Male   30                Doctor             7.7                 7                       75             6         Normal         120/80          70         8000            NaN\n",
            "23          24    Male   30                Doctor             7.7                 7                       75             6         Normal         120/80          70         8000            NaN\n",
            "24          25    Male   30                Doctor             7.8                 7                       75             6         Normal         120/80          70         8000            NaN\n",
            "25          26    Male   30                Doctor             7.9                 7                       75             6         Normal         120/80          70         8000            NaN\n",
            "26          27    Male   30                Doctor             7.8                 7                       75             6         Normal         120/80          70         8000            NaN\n",
            "27          28    Male   30                Doctor             7.9                 7                       75             6         Normal         120/80          70         8000            NaN\n",
            "28          29    Male   30                Doctor             7.9                 7                       75             6         Normal         120/80          70         8000            NaN\n",
            "29          30    Male   30                Doctor             7.9                 7                       75             6         Normal         120/80          70         8000            NaN\n",
            "30          31  Female   30                 Nurse             6.4                 5                       35             7  Normal Weight         130/86          78         4100    Sleep Apnea\n",
            "31          32  Female   30                 Nurse             6.4                 5                       35             7  Normal Weight         130/86          78         4100       Insomnia\n",
            "32          33  Female   31                 Nurse             7.9                 8                       75             4  Normal Weight         117/76          69         6800            NaN\n",
            "33          34    Male   31                Doctor             6.1                 6                       30             8         Normal         125/80          72         5000            NaN\n",
            "34          35    Male   31                Doctor             7.7                 7                       75             6         Normal         120/80          70         8000            NaN\n",
            "35          36    Male   31                Doctor             6.1                 6                       30             8         Normal         125/80          72         5000            NaN\n",
            "36          37    Male   31                Doctor             6.1                 6                       30             8         Normal         125/80          72         5000            NaN\n",
            "37          38    Male   31                Doctor             7.6                 7                       75             6         Normal         120/80          70         8000            NaN\n",
            "38          39    Male   31                Doctor             7.6                 7                       75             6         Normal         120/80          70         8000            NaN\n",
            "39          40    Male   31                Doctor             7.6                 7                       75             6         Normal         120/80          70         8000            NaN\n",
            "40          41    Male   31                Doctor             7.7                 7                       75             6         Normal         120/80          70         8000            NaN\n",
            "41          42    Male   31                Doctor             7.7                 7                       75             6         Normal         120/80          70         8000            NaN\n",
            "42          43    Male   31                Doctor             7.7                 7                       75             6         Normal         120/80          70         8000            NaN\n",
            "43          44    Male   31                Doctor             7.8                 7                       75             6         Normal         120/80          70         8000            NaN\n",
            "44          45    Male   31                Doctor             7.7                 7                       75             6         Normal         120/80          70         8000            NaN\n",
            "45          46    Male   31                Doctor             7.8                 7                       75             6         Normal         120/80          70         8000            NaN\n",
            "46          47    Male   31                Doctor             7.7                 7                       75             6         Normal         120/80          70         8000            NaN\n",
            "47          48    Male   31                Doctor             7.8                 7                       75             6         Normal         120/80          70         8000            NaN\n",
            "48          49    Male   31                Doctor             7.7                 7                       75             6         Normal         120/80          70         8000            NaN\n",
            "49          50    Male   31                Doctor             7.7                 7                       75             6         Normal         120/80          70         8000    Sleep Apnea\n",
            "50          51    Male   32              Engineer             7.5                 8                       45             3         Normal         120/80          70         8000            NaN\n",
            "51          52    Male   32              Engineer             7.5                 8                       45             3         Normal         120/80          70         8000            NaN\n",
            "52          53    Male   32                Doctor             6.0                 6                       30             8         Normal         125/80          72         5000            NaN\n",
            "53          54    Male   32                Doctor             7.6                 7                       75             6         Normal         120/80          70         8000            NaN\n",
            "54          55    Male   32                Doctor             6.0                 6                       30             8         Normal         125/80          72         5000            NaN\n",
            "55          56    Male   32                Doctor             6.0                 6                       30             8         Normal         125/80          72         5000            NaN\n",
            "56          57    Male   32                Doctor             7.7                 7                       75             6         Normal         120/80          70         8000            NaN\n",
            "57          58    Male   32                Doctor             6.0                 6                       30             8         Normal         125/80          72         5000            NaN\n",
            "58          59    Male   32                Doctor             6.0                 6                       30             8         Normal         125/80          72         5000            NaN\n",
            "59          60    Male   32                Doctor             7.7                 7                       75             6         Normal         120/80          70         8000            NaN\n",
            "60          61    Male   32                Doctor             6.0                 6                       30             8         Normal         125/80          72         5000            NaN\n",
            "61          62    Male   32                Doctor             6.0                 6                       30             8         Normal         125/80          72         5000            NaN\n",
            "62          63    Male   32                Doctor             6.2                 6                       30             8         Normal         125/80          72         5000            NaN\n",
            "63          64    Male   32                Doctor             6.2                 6                       30             8         Normal         125/80          72         5000            NaN\n",
            "64          65    Male   32                Doctor             6.2                 6                       30             8         Normal         125/80          72         5000            NaN\n",
            "65          66    Male   32                Doctor             6.2                 6                       30             8         Normal         125/80          72         5000            NaN\n",
            "66          67    Male   32            Accountant             7.2                 8                       50             6  Normal Weight         118/76          68         7000            NaN\n",
            "67          68    Male   33                Doctor             6.0                 6                       30             8         Normal         125/80          72         5000       Insomnia\n",
            "68          69  Female   33             Scientist             6.2                 6                       50             6     Overweight         128/85          76         5500            NaN\n",
            "69          70  Female   33             Scientist             6.2                 6                       50             6     Overweight         128/85          76         5500            NaN\n",
            "70          71    Male   33                Doctor             6.1                 6                       30             8         Normal         125/80          72         5000            NaN\n",
            "71          72    Male   33                Doctor             6.1                 6                       30             8         Normal         125/80          72         5000            NaN\n",
            "72          73    Male   33                Doctor             6.1                 6                       30             8         Normal         125/80          72         5000            NaN\n",
            "73          74    Male   33                Doctor             6.1                 6                       30             8         Normal         125/80          72         5000            NaN\n",
            "74          75    Male   33                Doctor             6.0                 6                       30             8         Normal         125/80          72         5000            NaN\n",
            "75          76    Male   33                Doctor             6.0                 6                       30             8         Normal         125/80          72         5000            NaN\n",
            "76          77    Male   33                Doctor             6.0                 6                       30             8         Normal         125/80          72         5000            NaN\n",
            "77          78    Male   33                Doctor             6.0                 6                       30             8         Normal         125/80          72         5000            NaN\n",
            "78          79    Male   33                Doctor             6.0                 6                       30             8         Normal         125/80          72         5000            NaN\n",
            "79          80    Male   33                Doctor             6.0                 6                       30             8         Normal         125/80          72         5000            NaN\n",
            "80          81  Female   34             Scientist             5.8                 4                       32             8     Overweight         131/86          81         5200    Sleep Apnea\n",
            "81          82  Female   34             Scientist             5.8                 4                       32             8     Overweight         131/86          81         5200    Sleep Apnea\n",
            "82          83    Male   35               Teacher             6.7                 7                       40             5     Overweight         128/84          70         5600            NaN\n",
            "83          84    Male   35               Teacher             6.7                 7                       40             5     Overweight         128/84          70         5600            NaN\n",
            "84          85    Male   35     Software Engineer             7.5                 8                       60             5  Normal Weight         120/80          70         8000            NaN\n",
            "85          86  Female   35            Accountant             7.2                 8                       60             4         Normal         115/75          68         7000            NaN\n",
            "86          87    Male   35              Engineer             7.2                 8                       60             4         Normal         125/80          65         5000            NaN\n",
            "87          88    Male   35              Engineer             7.2                 8                       60             4         Normal         125/80          65         5000            NaN\n",
            "88          89    Male   35              Engineer             7.3                 8                       60             4         Normal         125/80          65         5000            NaN\n",
            "89          90    Male   35              Engineer             7.3                 8                       60             4         Normal         125/80          65         5000            NaN\n",
            "90          91    Male   35              Engineer             7.3                 8                       60             4         Normal         125/80          65         5000            NaN\n",
            "91          92    Male   35              Engineer             7.3                 8                       60             4         Normal         125/80          65         5000            NaN\n",
            "92          93    Male   35     Software Engineer             7.5                 8                       60             5  Normal Weight         120/80          70         8000            NaN\n",
            "93          94    Male   35                Lawyer             7.4                 7                       60             5          Obese         135/88          84         3300    Sleep Apnea\n",
            "94          95  Female   36            Accountant             7.2                 8                       60             4         Normal         115/75          68         7000       Insomnia\n",
            "95          96  Female   36            Accountant             7.1                 8                       60             4         Normal         115/75          68         7000            NaN\n",
            "96          97  Female   36            Accountant             7.2                 8                       60             4         Normal         115/75          68         7000            NaN\n",
            "97          98  Female   36            Accountant             7.1                 8                       60             4         Normal         115/75          68         7000            NaN\n",
            "98          99  Female   36               Teacher             7.1                 8                       60             4         Normal         115/75          68         7000            NaN\n",
            "99         100  Female   36               Teacher             7.1                 8                       60             4         Normal         115/75          68         7000            NaN\n",
            "100        101  Female   36               Teacher             7.2                 8                       60             4         Normal         115/75          68         7000            NaN\n",
            "101        102  Female   36               Teacher             7.2                 8                       60             4         Normal         115/75          68         7000            NaN\n",
            "102        103  Female   36               Teacher             7.2                 8                       60             4         Normal         115/75          68         7000            NaN\n",
            "103        104    Male   36               Teacher             6.6                 5                       35             7     Overweight         129/84          74         4800    Sleep Apnea\n",
            "104        105  Female   36               Teacher             7.2                 8                       60             4         Normal         115/75          68         7000    Sleep Apnea\n",
            "105        106    Male   36               Teacher             6.6                 5                       35             7     Overweight         129/84          74         4800       Insomnia\n",
            "106        107  Female   37                 Nurse             6.1                 6                       42             6     Overweight         126/83          77         4200            NaN\n",
            "107        108    Male   37              Engineer             7.8                 8                       70             4  Normal Weight         120/80          68         7000            NaN\n",
            "108        109    Male   37              Engineer             7.8                 8                       70             4  Normal Weight         120/80          68         7000            NaN\n",
            "109        110    Male   37                Lawyer             7.4                 8                       60             5         Normal         130/85          68         8000            NaN\n",
            "110        111  Female   37            Accountant             7.2                 8                       60             4         Normal         115/75          68         7000            NaN\n",
            "111        112    Male   37                Lawyer             7.4                 8                       60             5         Normal         130/85          68         8000            NaN\n",
            "112        113  Female   37            Accountant             7.2                 8                       60             4         Normal         115/75          68         7000            NaN\n",
            "113        114    Male   37                Lawyer             7.4                 8                       60             5         Normal         130/85          68         8000            NaN\n",
            "114        115  Female   37            Accountant             7.2                 8                       60             4         Normal         115/75          68         7000            NaN\n",
            "115        116  Female   37            Accountant             7.2                 8                       60             4         Normal         115/75          68         7000            NaN\n",
            "116        117  Female   37            Accountant             7.2                 8                       60             4         Normal         115/75          68         7000            NaN\n",
            "117        118  Female   37            Accountant             7.2                 8                       60             4         Normal         115/75          68         7000            NaN\n",
            "118        119  Female   37            Accountant             7.2                 8                       60             4         Normal         115/75          68         7000            NaN\n",
            "119        120  Female   37            Accountant             7.2                 8                       60             4         Normal         115/75          68         7000            NaN\n",
            "120        121  Female   37            Accountant             7.2                 8                       60             4         Normal         115/75          68         7000            NaN\n",
            "121        122  Female   37            Accountant             7.2                 8                       60             4         Normal         115/75          68         7000            NaN\n",
            "122        123  Female   37            Accountant             7.2                 8                       60             4         Normal         115/75          68         7000            NaN\n",
            "123        124  Female   37            Accountant             7.2                 8                       60             4         Normal         115/75          68         7000            NaN\n",
            "124        125  Female   37            Accountant             7.2                 8                       60             4         Normal         115/75          68         7000            NaN\n",
            "125        126  Female   37                 Nurse             7.5                 8                       60             4  Normal Weight         120/80          70         8000            NaN\n",
            "126        127    Male   38                Lawyer             7.3                 8                       60             5         Normal         130/85          68         8000            NaN\n",
            "127        128  Female   38            Accountant             7.1                 8                       60             4         Normal         115/75          68         7000            NaN\n",
            "128        129    Male   38                Lawyer             7.3                 8                       60             5         Normal         130/85          68         8000            NaN\n",
            "129        130    Male   38                Lawyer             7.3                 8                       60             5         Normal         130/85          68         8000            NaN\n",
            "130        131  Female   38            Accountant             7.1                 8                       60             4         Normal         115/75          68         7000            NaN\n",
            "131        132    Male   38                Lawyer             7.3                 8                       60             5         Normal         130/85          68         8000            NaN\n",
            "132        133    Male   38                Lawyer             7.3                 8                       60             5         Normal         130/85          68         8000            NaN\n",
            "133        134  Female   38            Accountant             7.1                 8                       60             4         Normal         115/75          68         7000            NaN\n",
            "134        135    Male   38                Lawyer             7.3                 8                       60             5         Normal         130/85          68         8000            NaN\n",
            "135        136    Male   38                Lawyer             7.3                 8                       60             5         Normal         130/85          68         8000            NaN\n",
            "136        137  Female   38            Accountant             7.1                 8                       60             4         Normal         115/75          68         7000            NaN\n",
            "137        138    Male   38                Lawyer             7.1                 8                       60             5         Normal         130/85          68         8000            NaN\n",
            "138        139  Female   38            Accountant             7.1                 8                       60             4         Normal         115/75          68         7000            NaN\n",
            "139        140    Male   38                Lawyer             7.1                 8                       60             5         Normal         130/85          68         8000            NaN\n",
            "140        141  Female   38            Accountant             7.1                 8                       60             4         Normal         115/75          68         7000            NaN\n",
            "141        142    Male   38                Lawyer             7.1                 8                       60             5         Normal         130/85          68         8000            NaN\n",
            "142        143  Female   38            Accountant             7.1                 8                       60             4         Normal         115/75          68         7000            NaN\n",
            "143        144  Female   38            Accountant             7.1                 8                       60             4         Normal         115/75          68         7000            NaN\n",
            "144        145    Male   38                Lawyer             7.1                 8                       60             5         Normal         130/85          68         8000    Sleep Apnea\n",
            "145        146  Female   38                Lawyer             7.4                 7                       60             5          Obese         135/88          84         3300    Sleep Apnea\n",
            "146        147    Male   39                Lawyer             7.2                 8                       60             5         Normal         130/85          68         8000       Insomnia\n",
            "147        148    Male   39              Engineer             6.5                 5                       40             7     Overweight         132/87          80         4000       Insomnia\n",
            "148        149  Female   39                Lawyer             6.9                 7                       50             6  Normal Weight         128/85          75         5500            NaN\n",
            "149        150  Female   39            Accountant             8.0                 9                       80             3  Normal Weight         115/78          67         7500            NaN\n",
            "150        151  Female   39            Accountant             8.0                 9                       80             3  Normal Weight         115/78          67         7500            NaN\n",
            "151        152    Male   39                Lawyer             7.2                 8                       60             5         Normal         130/85          68         8000            NaN\n",
            "152        153    Male   39                Lawyer             7.2                 8                       60             5         Normal         130/85          68         8000            NaN\n",
            "153        154    Male   39                Lawyer             7.2                 8                       60             5         Normal         130/85          68         8000            NaN\n",
            "154        155    Male   39                Lawyer             7.2                 8                       60             5         Normal         130/85          68         8000            NaN\n",
            "155        156    Male   39                Lawyer             7.2                 8                       60             5         Normal         130/85          68         8000            NaN\n",
            "156        157    Male   39                Lawyer             7.2                 8                       60             5         Normal         130/85          68         8000            NaN\n",
            "157        158    Male   39                Lawyer             7.2                 8                       60             5         Normal         130/85          68         8000            NaN\n",
            "158        159    Male   39                Lawyer             7.2                 8                       60             5         Normal         130/85          68         8000            NaN\n",
            "159        160    Male   39                Lawyer             7.2                 8                       60             5         Normal         130/85          68         8000            NaN\n",
            "160        161    Male   39                Lawyer             7.2                 8                       60             5         Normal         130/85          68         8000            NaN\n",
            "161        162  Female   40            Accountant             7.2                 8                       55             6  Normal Weight         119/77          73         7300            NaN\n",
            "162        163  Female   40            Accountant             7.2                 8                       55             6  Normal Weight         119/77          73         7300            NaN\n",
            "163        164    Male   40                Lawyer             7.9                 8                       90             5         Normal         130/85          68         8000            NaN\n",
            "164        165    Male   40                Lawyer             7.9                 8                       90             5         Normal         130/85          68         8000            NaN\n",
            "165        166    Male   41                Lawyer             7.6                 8                       90             5         Normal         130/85          70         8000       Insomnia\n",
            "166        167    Male   41              Engineer             7.3                 8                       70             6  Normal Weight         121/79          72         6200            NaN\n",
            "167        168    Male   41                Lawyer             7.1                 7                       55             6     Overweight         125/82          72         6000            NaN\n",
            "168        169    Male   41                Lawyer             7.1                 7                       55             6     Overweight         125/82          72         6000            NaN\n",
            "169        170    Male   41                Lawyer             7.7                 8                       90             5         Normal         130/85          70         8000            NaN\n",
            "170        171    Male   41                Lawyer             7.7                 8                       90             5         Normal         130/85          70         8000            NaN\n",
            "171        172    Male   41                Lawyer             7.7                 8                       90             5         Normal         130/85          70         8000            NaN\n",
            "172        173    Male   41                Lawyer             7.7                 8                       90             5         Normal         130/85          70         8000            NaN\n",
            "173        174    Male   41                Lawyer             7.7                 8                       90             5         Normal         130/85          70         8000            NaN\n",
            "174        175    Male   41                Lawyer             7.6                 8                       90             5         Normal         130/85          70         8000            NaN\n",
            "175        176    Male   41                Lawyer             7.6                 8                       90             5         Normal         130/85          70         8000            NaN\n",
            "176        177    Male   41                Lawyer             7.6                 8                       90             5         Normal         130/85          70         8000            NaN\n",
            "177        178    Male   42           Salesperson             6.5                 6                       45             7     Overweight         130/85          72         6000       Insomnia\n",
            "178        179    Male   42                Lawyer             7.8                 8                       90             5         Normal         130/85          70         8000            NaN\n",
            "179        180    Male   42                Lawyer             7.8                 8                       90             5         Normal         130/85          70         8000            NaN\n",
            "180        181    Male   42                Lawyer             7.8                 8                       90             5         Normal         130/85          70         8000            NaN\n",
            "181        182    Male   42                Lawyer             7.8                 8                       90             5         Normal         130/85          70         8000            NaN\n",
            "182        183    Male   42                Lawyer             7.8                 8                       90             5         Normal         130/85          70         8000            NaN\n",
            "183        184    Male   42                Lawyer             7.8                 8                       90             5         Normal         130/85          70         8000            NaN\n",
            "184        185  Female   42               Teacher             6.8                 6                       45             7     Overweight         130/85          78         5000    Sleep Apnea\n",
            "185        186  Female   42               Teacher             6.8                 6                       45             7     Overweight         130/85          78         5000    Sleep Apnea\n",
            "186        187  Female   43               Teacher             6.7                 7                       45             4     Overweight         135/90          65         6000       Insomnia\n",
            "187        188    Male   43           Salesperson             6.3                 6                       45             7     Overweight         130/85          72         6000       Insomnia\n",
            "188        189  Female   43               Teacher             6.7                 7                       45             4     Overweight         135/90          65         6000       Insomnia\n",
            "189        190    Male   43           Salesperson             6.5                 6                       45             7     Overweight         130/85          72         6000       Insomnia\n",
            "190        191  Female   43               Teacher             6.7                 7                       45             4     Overweight         135/90          65         6000       Insomnia\n",
            "191        192    Male   43           Salesperson             6.4                 6                       45             7     Overweight         130/85          72         6000       Insomnia\n",
            "192        193    Male   43           Salesperson             6.5                 6                       45             7     Overweight         130/85          72         6000       Insomnia\n",
            "193        194    Male   43           Salesperson             6.5                 6                       45             7     Overweight         130/85          72         6000       Insomnia\n",
            "194        195    Male   43           Salesperson             6.5                 6                       45             7     Overweight         130/85          72         6000       Insomnia\n",
            "195        196    Male   43           Salesperson             6.5                 6                       45             7     Overweight         130/85          72         6000       Insomnia\n",
            "196        197    Male   43           Salesperson             6.5                 6                       45             7     Overweight         130/85          72         6000       Insomnia\n",
            "197        198    Male   43           Salesperson             6.5                 6                       45             7     Overweight         130/85          72         6000       Insomnia\n",
            "198        199    Male   43           Salesperson             6.5                 6                       45             7     Overweight         130/85          72         6000       Insomnia\n",
            "199        200    Male   43           Salesperson             6.5                 6                       45             7     Overweight         130/85          72         6000       Insomnia\n",
            "200        201    Male   43           Salesperson             6.5                 6                       45             7     Overweight         130/85          72         6000       Insomnia\n",
            "201        202    Male   43              Engineer             7.8                 8                       90             5         Normal         130/85          70         8000       Insomnia\n",
            "202        203    Male   43              Engineer             7.8                 8                       90             5         Normal         130/85          70         8000       Insomnia\n",
            "203        204    Male   43              Engineer             6.9                 6                       47             7  Normal Weight         117/76          69         6800            NaN\n",
            "204        205    Male   43              Engineer             7.6                 8                       75             4     Overweight         122/80          68         6800            NaN\n",
            "205        206    Male   43              Engineer             7.7                 8                       90             5         Normal         130/85          70         8000            NaN\n",
            "206        207    Male   43              Engineer             7.7                 8                       90             5         Normal         130/85          70         8000            NaN\n",
            "207        208    Male   43              Engineer             7.7                 8                       90             5         Normal         130/85          70         8000            NaN\n",
            "208        209    Male   43              Engineer             7.7                 8                       90             5         Normal         130/85          70         8000            NaN\n",
            "209        210    Male   43              Engineer             7.8                 8                       90             5         Normal         130/85          70         8000            NaN\n",
            "210        211    Male   43              Engineer             7.7                 8                       90             5         Normal         130/85          70         8000            NaN\n",
            "211        212    Male   43              Engineer             7.8                 8                       90             5         Normal         130/85          70         8000            NaN\n",
            "212        213    Male   43              Engineer             7.8                 8                       90             5         Normal         130/85          70         8000            NaN\n",
            "213        214    Male   43              Engineer             7.8                 8                       90             5         Normal         130/85          70         8000            NaN\n",
            "214        215    Male   43              Engineer             7.8                 8                       90             5         Normal         130/85          70         8000            NaN\n",
            "215        216    Male   43              Engineer             7.8                 8                       90             5         Normal         130/85          70         8000            NaN\n",
            "216        217    Male   43              Engineer             7.8                 8                       90             5         Normal         130/85          70         8000            NaN\n",
            "217        218    Male   43              Engineer             7.8                 8                       90             5         Normal         130/85          70         8000            NaN\n",
            "218        219    Male   43              Engineer             7.8                 8                       90             5         Normal         130/85          70         8000    Sleep Apnea\n",
            "219        220    Male   43           Salesperson             6.5                 6                       45             7     Overweight         130/85          72         6000    Sleep Apnea\n",
            "220        221  Female   44               Teacher             6.6                 7                       45             4     Overweight         135/90          65         6000       Insomnia\n",
            "221        222    Male   44           Salesperson             6.4                 6                       45             7     Overweight         130/85          72         6000       Insomnia\n",
            "222        223    Male   44           Salesperson             6.3                 6                       45             7     Overweight         130/85          72         6000       Insomnia\n",
            "223        224    Male   44           Salesperson             6.4                 6                       45             7     Overweight         130/85          72         6000       Insomnia\n",
            "224        225  Female   44               Teacher             6.6                 7                       45             4     Overweight         135/90          65         6000       Insomnia\n",
            "225        226    Male   44           Salesperson             6.3                 6                       45             7     Overweight         130/85          72         6000       Insomnia\n",
            "226        227  Female   44               Teacher             6.6                 7                       45             4     Overweight         135/90          65         6000       Insomnia\n",
            "227        228    Male   44           Salesperson             6.3                 6                       45             7     Overweight         130/85          72         6000       Insomnia\n",
            "228        229  Female   44               Teacher             6.6                 7                       45             4     Overweight         135/90          65         6000       Insomnia\n",
            "229        230    Male   44           Salesperson             6.3                 6                       45             7     Overweight         130/85          72         6000       Insomnia\n",
            "230        231  Female   44               Teacher             6.6                 7                       45             4     Overweight         135/90          65         6000       Insomnia\n",
            "231        232    Male   44           Salesperson             6.3                 6                       45             7     Overweight         130/85          72         6000       Insomnia\n",
            "232        233  Female   44               Teacher             6.6                 7                       45             4     Overweight         135/90          65         6000       Insomnia\n",
            "233        234    Male   44           Salesperson             6.3                 6                       45             7     Overweight         130/85          72         6000       Insomnia\n",
            "234        235  Female   44               Teacher             6.6                 7                       45             4     Overweight         135/90          65         6000       Insomnia\n",
            "235        236    Male   44           Salesperson             6.3                 6                       45             7     Overweight         130/85          72         6000       Insomnia\n",
            "236        237    Male   44           Salesperson             6.4                 6                       45             7     Overweight         130/85          72         6000       Insomnia\n",
            "237        238  Female   44               Teacher             6.5                 7                       45             4     Overweight         135/90          65         6000       Insomnia\n",
            "238        239    Male   44           Salesperson             6.3                 6                       45             7     Overweight         130/85          72         6000       Insomnia\n",
            "239        240    Male   44           Salesperson             6.4                 6                       45             7     Overweight         130/85          72         6000       Insomnia\n",
            "240        241  Female   44               Teacher             6.5                 7                       45             4     Overweight         135/90          65         6000       Insomnia\n",
            "241        242    Male   44           Salesperson             6.3                 6                       45             7     Overweight         130/85          72         6000       Insomnia\n",
            "242        243    Male   44           Salesperson             6.4                 6                       45             7     Overweight         130/85          72         6000       Insomnia\n",
            "243        244  Female   44               Teacher             6.5                 7                       45             4     Overweight         135/90          65         6000       Insomnia\n",
            "244        245    Male   44           Salesperson             6.3                 6                       45             7     Overweight         130/85          72         6000       Insomnia\n",
            "245        246  Female   44               Teacher             6.5                 7                       45             4     Overweight         135/90          65         6000       Insomnia\n",
            "246        247    Male   44           Salesperson             6.3                 6                       45             7     Overweight         130/85          72         6000       Insomnia\n",
            "247        248    Male   44              Engineer             6.8                 7                       45             7     Overweight         130/85          78         5000       Insomnia\n",
            "248        249    Male   44           Salesperson             6.4                 6                       45             7     Overweight         130/85          72         6000            NaN\n",
            "249        250    Male   44           Salesperson             6.5                 6                       45             7     Overweight         130/85          72         6000            NaN\n",
            "250        251  Female   45               Teacher             6.8                 7                       30             6     Overweight         135/90          65         6000       Insomnia\n",
            "251        252  Female   45               Teacher             6.8                 7                       30             6     Overweight         135/90          65         6000       Insomnia\n",
            "252        253  Female   45               Teacher             6.5                 7                       45             4     Overweight         135/90          65         6000       Insomnia\n",
            "253        254  Female   45               Teacher             6.5                 7                       45             4     Overweight         135/90          65         6000       Insomnia\n",
            "254        255  Female   45               Teacher             6.5                 7                       45             4     Overweight         135/90          65         6000       Insomnia\n",
            "255        256  Female   45               Teacher             6.5                 7                       45             4     Overweight         135/90          65         6000       Insomnia\n",
            "256        257  Female   45               Teacher             6.6                 7                       45             4     Overweight         135/90          65         6000       Insomnia\n",
            "257        258  Female   45               Teacher             6.6                 7                       45             4     Overweight         135/90          65         6000       Insomnia\n",
            "258        259  Female   45               Teacher             6.6                 7                       45             4     Overweight         135/90          65         6000       Insomnia\n",
            "259        260  Female   45               Teacher             6.6                 7                       45             4     Overweight         135/90          65         6000       Insomnia\n",
            "260        261  Female   45               Teacher             6.6                 7                       45             4     Overweight         135/90          65         6000       Insomnia\n",
            "261        262  Female   45               Teacher             6.6                 7                       45             4     Overweight         135/90          65         6000            NaN\n",
            "262        263  Female   45               Teacher             6.6                 7                       45             4     Overweight         135/90          65         6000            NaN\n",
            "263        264  Female   45               Manager             6.9                 7                       55             5     Overweight         125/82          75         5500            NaN\n",
            "264        265    Male   48                Doctor             7.3                 7                       65             5          Obese         142/92          83         3500       Insomnia\n",
            "265        266  Female   48                 Nurse             5.9                 6                       90             8     Overweight         140/95          75        10000    Sleep Apnea\n",
            "266        267    Male   48                Doctor             7.3                 7                       65             5          Obese         142/92          83         3500       Insomnia\n",
            "267        268  Female   49                 Nurse             6.2                 6                       90             8     Overweight         140/95          75        10000            NaN\n",
            "268        269  Female   49                 Nurse             6.0                 6                       90             8     Overweight         140/95          75        10000    Sleep Apnea\n",
            "269        270  Female   49                 Nurse             6.1                 6                       90             8     Overweight         140/95          75        10000    Sleep Apnea\n",
            "270        271  Female   49                 Nurse             6.1                 6                       90             8     Overweight         140/95          75        10000    Sleep Apnea\n",
            "271        272  Female   49                 Nurse             6.1                 6                       90             8     Overweight         140/95          75        10000    Sleep Apnea\n",
            "272        273  Female   49                 Nurse             6.1                 6                       90             8     Overweight         140/95          75        10000    Sleep Apnea\n",
            "273        274  Female   49                 Nurse             6.2                 6                       90             8     Overweight         140/95          75        10000    Sleep Apnea\n",
            "274        275  Female   49                 Nurse             6.2                 6                       90             8     Overweight         140/95          75        10000    Sleep Apnea\n",
            "275        276  Female   49                 Nurse             6.2                 6                       90             8     Overweight         140/95          75        10000    Sleep Apnea\n",
            "276        277    Male   49                Doctor             8.1                 9                       85             3          Obese         139/91          86         3700    Sleep Apnea\n",
            "277        278    Male   49                Doctor             8.1                 9                       85             3          Obese         139/91          86         3700    Sleep Apnea\n",
            "278        279  Female   50                 Nurse             6.1                 6                       90             8     Overweight         140/95          75        10000       Insomnia\n",
            "279        280  Female   50              Engineer             8.3                 9                       30             3         Normal         125/80          65         5000            NaN\n",
            "280        281  Female   50                 Nurse             6.0                 6                       90             8     Overweight         140/95          75        10000            NaN\n",
            "281        282  Female   50                 Nurse             6.1                 6                       90             8     Overweight         140/95          75        10000    Sleep Apnea\n",
            "282        283  Female   50                 Nurse             6.0                 6                       90             8     Overweight         140/95          75        10000    Sleep Apnea\n",
            "283        284  Female   50                 Nurse             6.0                 6                       90             8     Overweight         140/95          75        10000    Sleep Apnea\n",
            "284        285  Female   50                 Nurse             6.0                 6                       90             8     Overweight         140/95          75        10000    Sleep Apnea\n",
            "285        286  Female   50                 Nurse             6.0                 6                       90             8     Overweight         140/95          75        10000    Sleep Apnea\n",
            "286        287  Female   50                 Nurse             6.0                 6                       90             8     Overweight         140/95          75        10000    Sleep Apnea\n",
            "287        288  Female   50                 Nurse             6.0                 6                       90             8     Overweight         140/95          75        10000    Sleep Apnea\n",
            "288        289  Female   50                 Nurse             6.0                 6                       90             8     Overweight         140/95          75        10000    Sleep Apnea\n",
            "289        290  Female   50                 Nurse             6.1                 6                       90             8     Overweight         140/95          75        10000    Sleep Apnea\n",
            "290        291  Female   50                 Nurse             6.0                 6                       90             8     Overweight         140/95          75        10000    Sleep Apnea\n",
            "291        292  Female   50                 Nurse             6.1                 6                       90             8     Overweight         140/95          75        10000    Sleep Apnea\n",
            "292        293  Female   50                 Nurse             6.1                 6                       90             8     Overweight         140/95          75        10000    Sleep Apnea\n",
            "293        294  Female   50                 Nurse             6.0                 6                       90             8     Overweight         140/95          75        10000    Sleep Apnea\n",
            "294        295  Female   50                 Nurse             6.1                 6                       90             8     Overweight         140/95          75        10000    Sleep Apnea\n",
            "295        296  Female   50                 Nurse             6.0                 6                       90             8     Overweight         140/95          75        10000    Sleep Apnea\n",
            "296        297  Female   50                 Nurse             6.1                 6                       90             8     Overweight         140/95          75        10000    Sleep Apnea\n",
            "297        298  Female   50                 Nurse             6.1                 6                       90             8     Overweight         140/95          75        10000    Sleep Apnea\n",
            "298        299  Female   51              Engineer             8.5                 9                       30             3         Normal         125/80          65         5000            NaN\n",
            "299        300  Female   51              Engineer             8.5                 9                       30             3         Normal         125/80          65         5000            NaN\n",
            "300        301  Female   51              Engineer             8.5                 9                       30             3         Normal         125/80          65         5000            NaN\n",
            "301        302  Female   51              Engineer             8.5                 9                       30             3         Normal         125/80          65         5000            NaN\n",
            "302        303  Female   51                 Nurse             7.1                 7                       55             6  Normal Weight         125/82          72         6000            NaN\n",
            "303        304  Female   51                 Nurse             6.0                 6                       90             8     Overweight         140/95          75        10000    Sleep Apnea\n",
            "304        305  Female   51                 Nurse             6.1                 6                       90             8     Overweight         140/95          75        10000    Sleep Apnea\n",
            "305        306  Female   51                 Nurse             6.1                 6                       90             8     Overweight         140/95          75        10000    Sleep Apnea\n",
            "306        307  Female   52            Accountant             6.5                 7                       45             7     Overweight         130/85          72         6000       Insomnia\n",
            "307        308  Female   52            Accountant             6.5                 7                       45             7     Overweight         130/85          72         6000       Insomnia\n",
            "308        309  Female   52            Accountant             6.6                 7                       45             7     Overweight         130/85          72         6000       Insomnia\n",
            "309        310  Female   52            Accountant             6.6                 7                       45             7     Overweight         130/85          72         6000       Insomnia\n",
            "310        311  Female   52            Accountant             6.6                 7                       45             7     Overweight         130/85          72         6000       Insomnia\n",
            "311        312  Female   52            Accountant             6.6                 7                       45             7     Overweight         130/85          72         6000       Insomnia\n",
            "312        313  Female   52              Engineer             8.4                 9                       30             3         Normal         125/80          65         5000            NaN\n",
            "313        314  Female   52              Engineer             8.4                 9                       30             3         Normal         125/80          65         5000            NaN\n",
            "314        315  Female   52              Engineer             8.4                 9                       30             3         Normal         125/80          65         5000            NaN\n",
            "315        316  Female   53              Engineer             8.3                 9                       30             3         Normal         125/80          65         5000       Insomnia\n",
            "316        317  Female   53              Engineer             8.5                 9                       30             3         Normal         125/80          65         5000            NaN\n",
            "317        318  Female   53              Engineer             8.5                 9                       30             3         Normal         125/80          65         5000            NaN\n",
            "318        319  Female   53              Engineer             8.4                 9                       30             3         Normal         125/80          65         5000            NaN\n",
            "319        320  Female   53              Engineer             8.4                 9                       30             3         Normal         125/80          65         5000            NaN\n",
            "320        321  Female   53              Engineer             8.5                 9                       30             3         Normal         125/80          65         5000            NaN\n",
            "321        322  Female   53              Engineer             8.4                 9                       30             3         Normal         125/80          65         5000            NaN\n",
            "322        323  Female   53              Engineer             8.4                 9                       30             3         Normal         125/80          65         5000            NaN\n",
            "323        324  Female   53              Engineer             8.5                 9                       30             3         Normal         125/80          65         5000            NaN\n",
            "324        325  Female   53              Engineer             8.3                 9                       30             3         Normal         125/80          65         5000            NaN\n",
            "325        326  Female   53              Engineer             8.5                 9                       30             3         Normal         125/80          65         5000            NaN\n",
            "326        327  Female   53              Engineer             8.3                 9                       30             3         Normal         125/80          65         5000            NaN\n",
            "327        328  Female   53              Engineer             8.5                 9                       30             3         Normal         125/80          65         5000            NaN\n",
            "328        329  Female   53              Engineer             8.3                 9                       30             3         Normal         125/80          65         5000            NaN\n",
            "329        330  Female   53              Engineer             8.5                 9                       30             3         Normal         125/80          65         5000            NaN\n",
            "330        331  Female   53              Engineer             8.5                 9                       30             3         Normal         125/80          65         5000            NaN\n",
            "331        332  Female   53              Engineer             8.4                 9                       30             3         Normal         125/80          65         5000            NaN\n",
            "332        333  Female   54              Engineer             8.4                 9                       30             3         Normal         125/80          65         5000            NaN\n",
            "333        334  Female   54              Engineer             8.4                 9                       30             3         Normal         125/80          65         5000            NaN\n",
            "334        335  Female   54              Engineer             8.4                 9                       30             3         Normal         125/80          65         5000            NaN\n",
            "335        336  Female   54              Engineer             8.4                 9                       30             3         Normal         125/80          65         5000            NaN\n",
            "336        337  Female   54              Engineer             8.4                 9                       30             3         Normal         125/80          65         5000            NaN\n",
            "337        338  Female   54              Engineer             8.4                 9                       30             3         Normal         125/80          65         5000            NaN\n",
            "338        339  Female   54              Engineer             8.5                 9                       30             3         Normal         125/80          65         5000            NaN\n",
            "339        340  Female   55                 Nurse             8.1                 9                       75             4     Overweight         140/95          72         5000    Sleep Apnea\n",
            "340        341  Female   55                 Nurse             8.1                 9                       75             4     Overweight         140/95          72         5000    Sleep Apnea\n",
            "341        342  Female   56                Doctor             8.2                 9                       90             3  Normal Weight         118/75          65        10000            NaN\n",
            "342        343  Female   56                Doctor             8.2                 9                       90             3  Normal Weight         118/75          65        10000            NaN\n",
            "343        344  Female   57                 Nurse             8.1                 9                       75             3     Overweight         140/95          68         7000            NaN\n",
            "344        345  Female   57                 Nurse             8.2                 9                       75             3     Overweight         140/95          68         7000    Sleep Apnea\n",
            "345        346  Female   57                 Nurse             8.2                 9                       75             3     Overweight         140/95          68         7000    Sleep Apnea\n",
            "346        347  Female   57                 Nurse             8.2                 9                       75             3     Overweight         140/95          68         7000    Sleep Apnea\n",
            "347        348  Female   57                 Nurse             8.2                 9                       75             3     Overweight         140/95          68         7000    Sleep Apnea\n",
            "348        349  Female   57                 Nurse             8.2                 9                       75             3     Overweight         140/95          68         7000    Sleep Apnea\n",
            "349        350  Female   57                 Nurse             8.1                 9                       75             3     Overweight         140/95          68         7000    Sleep Apnea\n",
            "350        351  Female   57                 Nurse             8.1                 9                       75             3     Overweight         140/95          68         7000    Sleep Apnea\n",
            "351        352  Female   57                 Nurse             8.1                 9                       75             3     Overweight         140/95          68         7000    Sleep Apnea\n",
            "352        353  Female   58                 Nurse             8.0                 9                       75             3     Overweight         140/95          68         7000    Sleep Apnea\n",
            "353        354  Female   58                 Nurse             8.0                 9                       75             3     Overweight         140/95          68         7000    Sleep Apnea\n",
            "354        355  Female   58                 Nurse             8.0                 9                       75             3     Overweight         140/95          68         7000    Sleep Apnea\n",
            "355        356  Female   58                 Nurse             8.0                 9                       75             3     Overweight         140/95          68         7000    Sleep Apnea\n",
            "356        357  Female   58                 Nurse             8.0                 9                       75             3     Overweight         140/95          68         7000    Sleep Apnea\n",
            "357        358  Female   58                 Nurse             8.0                 9                       75             3     Overweight         140/95          68         7000    Sleep Apnea\n",
            "358        359  Female   59                 Nurse             8.0                 9                       75             3     Overweight         140/95          68         7000            NaN\n",
            "359        360  Female   59                 Nurse             8.1                 9                       75             3     Overweight         140/95          68         7000            NaN\n",
            "360        361  Female   59                 Nurse             8.2                 9                       75             3     Overweight         140/95          68         7000    Sleep Apnea\n",
            "361        362  Female   59                 Nurse             8.2                 9                       75             3     Overweight         140/95          68         7000    Sleep Apnea\n",
            "362        363  Female   59                 Nurse             8.2                 9                       75             3     Overweight         140/95          68         7000    Sleep Apnea\n",
            "363        364  Female   59                 Nurse             8.2                 9                       75             3     Overweight         140/95          68         7000    Sleep Apnea\n",
            "364        365  Female   59                 Nurse             8.0                 9                       75             3     Overweight         140/95          68         7000    Sleep Apnea\n",
            "365        366  Female   59                 Nurse             8.0                 9                       75             3     Overweight         140/95          68         7000    Sleep Apnea\n",
            "366        367  Female   59                 Nurse             8.1                 9                       75             3     Overweight         140/95          68         7000    Sleep Apnea\n",
            "367        368  Female   59                 Nurse             8.0                 9                       75             3     Overweight         140/95          68         7000    Sleep Apnea\n",
            "368        369  Female   59                 Nurse             8.1                 9                       75             3     Overweight         140/95          68         7000    Sleep Apnea\n",
            "369        370  Female   59                 Nurse             8.1                 9                       75             3     Overweight         140/95          68         7000    Sleep Apnea\n",
            "370        371  Female   59                 Nurse             8.0                 9                       75             3     Overweight         140/95          68         7000    Sleep Apnea\n",
            "371        372  Female   59                 Nurse             8.1                 9                       75             3     Overweight         140/95          68         7000    Sleep Apnea\n",
            "372        373  Female   59                 Nurse             8.1                 9                       75             3     Overweight         140/95          68         7000    Sleep Apnea\n",
            "373        374  Female   59                 Nurse             8.1                 9                       75             3     Overweight         140/95          68         7000    Sleep Apnea\n"
          ]
        }
      ]
    },
    {
      "cell_type": "markdown",
      "source": [
        "Segundo:veremos si no hay datos nulos"
      ],
      "metadata": {
        "id": "a7RihYEqoTP_"
      }
    },
    {
      "cell_type": "code",
      "source": [
        "# Verificar si hay valores nulos en el DataFrame\n",
        "print(df.isnull().sum())\n"
      ],
      "metadata": {
        "colab": {
          "base_uri": "https://localhost:8080/"
        },
        "id": "VSoFGbz-oejf",
        "outputId": "d60d38bb-54b4-491e-d710-efd5cb397b10"
      },
      "execution_count": 32,
      "outputs": [
        {
          "output_type": "stream",
          "name": "stdout",
          "text": [
            "Person ID                    0\n",
            "Gender                       0\n",
            "Age                          0\n",
            "Occupation                   0\n",
            "Sleep Duration               0\n",
            "Quality of Sleep             0\n",
            "Physical Activity Level      0\n",
            "Stress Level                 0\n",
            "BMI Category                 0\n",
            "Blood Pressure               0\n",
            "Heart Rate                   0\n",
            "Daily Steps                  0\n",
            "Sleep Disorder             219\n",
            "dtype: int64\n"
          ]
        }
      ]
    },
    {
      "cell_type": "markdown",
      "source": [
        "Vemos que existen datos nulos en la casilla Sleep Disorder, pero son personas que no tienen ningun desorden del sueño, asi que cambiaremos los datos nulos por No sleep disorder.\n",
        "\n"
      ],
      "metadata": {
        "id": "hXalyEfBo0FS"
      }
    },
    {
      "cell_type": "code",
      "source": [
        "# Rellenar los valores nulos en la columna 'Sleep Disorder' con 'Sin desorden del sueño'\n",
        "df['Sleep Disorder'].fillna('No sleep disorder', inplace=True)"
      ],
      "metadata": {
        "id": "xcDJzET0pQbd",
        "colab": {
          "base_uri": "https://localhost:8080/"
        },
        "outputId": "cf8fd26a-5e79-4ad2-b860-b228f4e904f0"
      },
      "execution_count": 33,
      "outputs": [
        {
          "output_type": "stream",
          "name": "stderr",
          "text": [
            "<ipython-input-33-486df46c7161>:2: FutureWarning: A value is trying to be set on a copy of a DataFrame or Series through chained assignment using an inplace method.\n",
            "The behavior will change in pandas 3.0. This inplace method will never work because the intermediate object on which we are setting values always behaves as a copy.\n",
            "\n",
            "For example, when doing 'df[col].method(value, inplace=True)', try using 'df.method({col: value}, inplace=True)' or df[col] = df[col].method(value) instead, to perform the operation inplace on the original object.\n",
            "\n",
            "\n",
            "  df['Sleep Disorder'].fillna('No sleep disorder', inplace=True)\n"
          ]
        }
      ]
    },
    {
      "cell_type": "code",
      "source": [
        "# Verificar si hay valores nulos en el DataFrame\n",
        "print(df.isnull().sum())"
      ],
      "metadata": {
        "colab": {
          "base_uri": "https://localhost:8080/"
        },
        "id": "Enw2c5iLp5bC",
        "outputId": "19303eeb-3cde-486b-add9-b1931c9fce9c"
      },
      "execution_count": 34,
      "outputs": [
        {
          "output_type": "stream",
          "name": "stdout",
          "text": [
            "Person ID                  0\n",
            "Gender                     0\n",
            "Age                        0\n",
            "Occupation                 0\n",
            "Sleep Duration             0\n",
            "Quality of Sleep           0\n",
            "Physical Activity Level    0\n",
            "Stress Level               0\n",
            "BMI Category               0\n",
            "Blood Pressure             0\n",
            "Heart Rate                 0\n",
            "Daily Steps                0\n",
            "Sleep Disorder             0\n",
            "dtype: int64\n"
          ]
        }
      ]
    },
    {
      "cell_type": "code",
      "source": [
        "print(df.head())\n",
        "# unción : Muestra las primeras 5 filas del DataFrame"
      ],
      "metadata": {
        "colab": {
          "base_uri": "https://localhost:8080/"
        },
        "id": "GPrV9doJqS6k",
        "outputId": "62f8d97e-605e-4dfb-b2f5-463c6a5a81cc"
      },
      "execution_count": 35,
      "outputs": [
        {
          "output_type": "stream",
          "name": "stdout",
          "text": [
            "   Person ID Gender  Age            Occupation  Sleep Duration  \\\n",
            "0          1   Male   27     Software Engineer             6.1   \n",
            "1          2   Male   28                Doctor             6.2   \n",
            "2          3   Male   28                Doctor             6.2   \n",
            "3          4   Male   28  Sales Representative             5.9   \n",
            "4          5   Male   28  Sales Representative             5.9   \n",
            "\n",
            "   Quality of Sleep  Physical Activity Level  Stress Level BMI Category  \\\n",
            "0                 6                       42             6   Overweight   \n",
            "1                 6                       60             8       Normal   \n",
            "2                 6                       60             8       Normal   \n",
            "3                 4                       30             8        Obese   \n",
            "4                 4                       30             8        Obese   \n",
            "\n",
            "  Blood Pressure  Heart Rate  Daily Steps     Sleep Disorder  \n",
            "0         126/83          77         4200  No sleep disorder  \n",
            "1         125/80          75        10000  No sleep disorder  \n",
            "2         125/80          75        10000  No sleep disorder  \n",
            "3         140/90          85         3000        Sleep Apnea  \n",
            "4         140/90          85         3000        Sleep Apnea  \n"
          ]
        }
      ]
    },
    {
      "cell_type": "markdown",
      "source": [
        "Tercero: ya que quitamos los datos nulos es momento de seguir sacando mas informacion del data set.\n",
        "\n"
      ],
      "metadata": {
        "id": "CpA93mD9rBKm"
      }
    },
    {
      "cell_type": "code",
      "source": [
        "# Información general (tipos de datos, valores no nulos)\n",
        "print(df.info())"
      ],
      "metadata": {
        "colab": {
          "base_uri": "https://localhost:8080/"
        },
        "id": "JqqNlYWqrOtP",
        "outputId": "2679d04d-ebd3-4f01-e82e-3dd70272d6d8"
      },
      "execution_count": 36,
      "outputs": [
        {
          "output_type": "stream",
          "name": "stdout",
          "text": [
            "<class 'pandas.core.frame.DataFrame'>\n",
            "RangeIndex: 374 entries, 0 to 373\n",
            "Data columns (total 13 columns):\n",
            " #   Column                   Non-Null Count  Dtype  \n",
            "---  ------                   --------------  -----  \n",
            " 0   Person ID                374 non-null    int64  \n",
            " 1   Gender                   374 non-null    object \n",
            " 2   Age                      374 non-null    int64  \n",
            " 3   Occupation               374 non-null    object \n",
            " 4   Sleep Duration           374 non-null    float64\n",
            " 5   Quality of Sleep         374 non-null    int64  \n",
            " 6   Physical Activity Level  374 non-null    int64  \n",
            " 7   Stress Level             374 non-null    int64  \n",
            " 8   BMI Category             374 non-null    object \n",
            " 9   Blood Pressure           374 non-null    object \n",
            " 10  Heart Rate               374 non-null    int64  \n",
            " 11  Daily Steps              374 non-null    int64  \n",
            " 12  Sleep Disorder           374 non-null    object \n",
            "dtypes: float64(1), int64(7), object(5)\n",
            "memory usage: 38.1+ KB\n",
            "None\n"
          ]
        }
      ]
    },
    {
      "cell_type": "code",
      "source": [
        "# Estadísticas descriptivas básicas para columnas numéricas\n",
        "print(df.describe())\n"
      ],
      "metadata": {
        "colab": {
          "base_uri": "https://localhost:8080/"
        },
        "id": "dyfESnterXI5",
        "outputId": "5261393d-5d26-44b0-bdd9-db67dedf3fca"
      },
      "execution_count": 37,
      "outputs": [
        {
          "output_type": "stream",
          "name": "stdout",
          "text": [
            "        Person ID         Age  Sleep Duration  Quality of Sleep  \\\n",
            "count  374.000000  374.000000      374.000000        374.000000   \n",
            "mean   187.500000   42.184492        7.132086          7.312834   \n",
            "std    108.108742    8.673133        0.795657          1.196956   \n",
            "min      1.000000   27.000000        5.800000          4.000000   \n",
            "25%     94.250000   35.250000        6.400000          6.000000   \n",
            "50%    187.500000   43.000000        7.200000          7.000000   \n",
            "75%    280.750000   50.000000        7.800000          8.000000   \n",
            "max    374.000000   59.000000        8.500000          9.000000   \n",
            "\n",
            "       Physical Activity Level  Stress Level  Heart Rate   Daily Steps  \n",
            "count               374.000000    374.000000  374.000000    374.000000  \n",
            "mean                 59.171123      5.385027   70.165775   6816.844920  \n",
            "std                  20.830804      1.774526    4.135676   1617.915679  \n",
            "min                  30.000000      3.000000   65.000000   3000.000000  \n",
            "25%                  45.000000      4.000000   68.000000   5600.000000  \n",
            "50%                  60.000000      5.000000   70.000000   7000.000000  \n",
            "75%                  75.000000      7.000000   72.000000   8000.000000  \n",
            "max                  90.000000      8.000000   86.000000  10000.000000  \n"
          ]
        }
      ]
    },
    {
      "cell_type": "markdown",
      "source": [],
      "metadata": {
        "id": "AhkmxLgAsWUn"
      }
    }
  ]
}